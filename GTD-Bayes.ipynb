{
 "cells": [
  {
   "cell_type": "code",
   "execution_count": 38,
   "metadata": {},
   "outputs": [],
   "source": [
    "import pandas as pd\n",
    "import numpy as np\n",
    "import scipy.stats as stats\n",
    "import pymc3 as pm\n",
    "import matplotlib.pyplot as plt\n",
    "%matplotlib inline"
   ]
  },
  {
   "cell_type": "code",
   "execution_count": 3,
   "metadata": {
    "collapsed": true
   },
   "outputs": [],
   "source": [
    "gtd = pd.read_csv('./gtd-clean.csv')"
   ]
  },
  {
   "cell_type": "code",
   "execution_count": 4,
   "metadata": {},
   "outputs": [
    {
     "data": {
      "text/html": [
       "<div>\n",
       "<style>\n",
       "    .dataframe thead tr:only-child th {\n",
       "        text-align: right;\n",
       "    }\n",
       "\n",
       "    .dataframe thead th {\n",
       "        text-align: left;\n",
       "    }\n",
       "\n",
       "    .dataframe tbody tr th {\n",
       "        vertical-align: top;\n",
       "    }\n",
       "</style>\n",
       "<table border=\"1\" class=\"dataframe\">\n",
       "  <thead>\n",
       "    <tr style=\"text-align: right;\">\n",
       "      <th></th>\n",
       "      <th>iyear</th>\n",
       "      <th>extended</th>\n",
       "      <th>country</th>\n",
       "      <th>country_txt</th>\n",
       "      <th>region</th>\n",
       "      <th>region_txt</th>\n",
       "      <th>latitude</th>\n",
       "      <th>longitude</th>\n",
       "      <th>specificity</th>\n",
       "      <th>vicinity</th>\n",
       "      <th>...</th>\n",
       "      <th>nkill</th>\n",
       "      <th>nwound</th>\n",
       "      <th>property</th>\n",
       "      <th>propextent</th>\n",
       "      <th>propextent_txt</th>\n",
       "      <th>INT_LOG</th>\n",
       "      <th>INT_IDEO</th>\n",
       "      <th>INT_MISC</th>\n",
       "      <th>INT_ANY</th>\n",
       "      <th>related</th>\n",
       "    </tr>\n",
       "  </thead>\n",
       "  <tbody>\n",
       "    <tr>\n",
       "      <th>0</th>\n",
       "      <td>1970</td>\n",
       "      <td>0</td>\n",
       "      <td>58</td>\n",
       "      <td>Dominican Republic</td>\n",
       "      <td>2</td>\n",
       "      <td>Central America &amp; Caribbean</td>\n",
       "      <td>18.456792</td>\n",
       "      <td>-69.951164</td>\n",
       "      <td>1</td>\n",
       "      <td>0</td>\n",
       "      <td>...</td>\n",
       "      <td>1</td>\n",
       "      <td>0</td>\n",
       "      <td>0</td>\n",
       "      <td>3</td>\n",
       "      <td>Minor (likely &lt; $1 million)</td>\n",
       "      <td>0</td>\n",
       "      <td>0</td>\n",
       "      <td>0</td>\n",
       "      <td>0</td>\n",
       "      <td>0</td>\n",
       "    </tr>\n",
       "    <tr>\n",
       "      <th>1</th>\n",
       "      <td>1970</td>\n",
       "      <td>0</td>\n",
       "      <td>130</td>\n",
       "      <td>Mexico</td>\n",
       "      <td>1</td>\n",
       "      <td>North America</td>\n",
       "      <td>19.432608</td>\n",
       "      <td>-99.133207</td>\n",
       "      <td>1</td>\n",
       "      <td>0</td>\n",
       "      <td>...</td>\n",
       "      <td>0</td>\n",
       "      <td>0</td>\n",
       "      <td>0</td>\n",
       "      <td>3</td>\n",
       "      <td>Minor (likely &lt; $1 million)</td>\n",
       "      <td>0</td>\n",
       "      <td>1</td>\n",
       "      <td>1</td>\n",
       "      <td>1</td>\n",
       "      <td>0</td>\n",
       "    </tr>\n",
       "    <tr>\n",
       "      <th>2</th>\n",
       "      <td>1970</td>\n",
       "      <td>0</td>\n",
       "      <td>160</td>\n",
       "      <td>Philippines</td>\n",
       "      <td>5</td>\n",
       "      <td>Southeast Asia</td>\n",
       "      <td>15.478598</td>\n",
       "      <td>120.599741</td>\n",
       "      <td>4</td>\n",
       "      <td>0</td>\n",
       "      <td>...</td>\n",
       "      <td>1</td>\n",
       "      <td>0</td>\n",
       "      <td>0</td>\n",
       "      <td>3</td>\n",
       "      <td>Minor (likely &lt; $1 million)</td>\n",
       "      <td>-9</td>\n",
       "      <td>-9</td>\n",
       "      <td>1</td>\n",
       "      <td>1</td>\n",
       "      <td>0</td>\n",
       "    </tr>\n",
       "    <tr>\n",
       "      <th>3</th>\n",
       "      <td>1970</td>\n",
       "      <td>0</td>\n",
       "      <td>78</td>\n",
       "      <td>Greece</td>\n",
       "      <td>8</td>\n",
       "      <td>Western Europe</td>\n",
       "      <td>37.983773</td>\n",
       "      <td>23.728157</td>\n",
       "      <td>1</td>\n",
       "      <td>0</td>\n",
       "      <td>...</td>\n",
       "      <td>0</td>\n",
       "      <td>0</td>\n",
       "      <td>1</td>\n",
       "      <td>4</td>\n",
       "      <td>Unknown</td>\n",
       "      <td>-9</td>\n",
       "      <td>-9</td>\n",
       "      <td>1</td>\n",
       "      <td>1</td>\n",
       "      <td>0</td>\n",
       "    </tr>\n",
       "    <tr>\n",
       "      <th>4</th>\n",
       "      <td>1970</td>\n",
       "      <td>0</td>\n",
       "      <td>101</td>\n",
       "      <td>Japan</td>\n",
       "      <td>4</td>\n",
       "      <td>East Asia</td>\n",
       "      <td>33.580412</td>\n",
       "      <td>130.396361</td>\n",
       "      <td>1</td>\n",
       "      <td>0</td>\n",
       "      <td>...</td>\n",
       "      <td>0</td>\n",
       "      <td>0</td>\n",
       "      <td>1</td>\n",
       "      <td>4</td>\n",
       "      <td>Unknown</td>\n",
       "      <td>-9</td>\n",
       "      <td>-9</td>\n",
       "      <td>1</td>\n",
       "      <td>1</td>\n",
       "      <td>0</td>\n",
       "    </tr>\n",
       "  </tbody>\n",
       "</table>\n",
       "<p>5 rows × 42 columns</p>\n",
       "</div>"
      ],
      "text/plain": [
       "   iyear  extended  country         country_txt  region  \\\n",
       "0   1970         0       58  Dominican Republic       2   \n",
       "1   1970         0      130              Mexico       1   \n",
       "2   1970         0      160         Philippines       5   \n",
       "3   1970         0       78              Greece       8   \n",
       "4   1970         0      101               Japan       4   \n",
       "\n",
       "                    region_txt   latitude   longitude  specificity  vicinity  \\\n",
       "0  Central America & Caribbean  18.456792  -69.951164            1         0   \n",
       "1                North America  19.432608  -99.133207            1         0   \n",
       "2               Southeast Asia  15.478598  120.599741            4         0   \n",
       "3               Western Europe  37.983773   23.728157            1         0   \n",
       "4                    East Asia  33.580412  130.396361            1         0   \n",
       "\n",
       "    ...     nkill  nwound  property  propextent               propextent_txt  \\\n",
       "0   ...         1       0         0           3  Minor (likely < $1 million)   \n",
       "1   ...         0       0         0           3  Minor (likely < $1 million)   \n",
       "2   ...         1       0         0           3  Minor (likely < $1 million)   \n",
       "3   ...         0       0         1           4                      Unknown   \n",
       "4   ...         0       0         1           4                      Unknown   \n",
       "\n",
       "   INT_LOG  INT_IDEO  INT_MISC INT_ANY  related  \n",
       "0        0         0         0       0        0  \n",
       "1        0         1         1       1        0  \n",
       "2       -9        -9         1       1        0  \n",
       "3       -9        -9         1       1        0  \n",
       "4       -9        -9         1       1        0  \n",
       "\n",
       "[5 rows x 42 columns]"
      ]
     },
     "execution_count": 4,
     "metadata": {},
     "output_type": "execute_result"
    }
   ],
   "source": [
    "gtd.head()"
   ]
  },
  {
   "cell_type": "code",
   "execution_count": 31,
   "metadata": {},
   "outputs": [
    {
     "data": {
      "text/html": [
       "<div>\n",
       "<style>\n",
       "    .dataframe thead tr:only-child th {\n",
       "        text-align: right;\n",
       "    }\n",
       "\n",
       "    .dataframe thead th {\n",
       "        text-align: left;\n",
       "    }\n",
       "\n",
       "    .dataframe tbody tr th {\n",
       "        vertical-align: top;\n",
       "    }\n",
       "</style>\n",
       "<table border=\"1\" class=\"dataframe\">\n",
       "  <thead>\n",
       "    <tr style=\"text-align: right;\">\n",
       "      <th></th>\n",
       "      <th>iyear</th>\n",
       "      <th>extended</th>\n",
       "      <th>country</th>\n",
       "      <th>country_txt</th>\n",
       "      <th>region</th>\n",
       "      <th>region_txt</th>\n",
       "      <th>latitude</th>\n",
       "      <th>longitude</th>\n",
       "      <th>specificity</th>\n",
       "      <th>vicinity</th>\n",
       "      <th>...</th>\n",
       "      <th>nkill</th>\n",
       "      <th>nwound</th>\n",
       "      <th>property</th>\n",
       "      <th>propextent</th>\n",
       "      <th>propextent_txt</th>\n",
       "      <th>INT_LOG</th>\n",
       "      <th>INT_IDEO</th>\n",
       "      <th>INT_MISC</th>\n",
       "      <th>INT_ANY</th>\n",
       "      <th>related</th>\n",
       "    </tr>\n",
       "  </thead>\n",
       "  <tbody>\n",
       "    <tr>\n",
       "      <th>364</th>\n",
       "      <td>1970</td>\n",
       "      <td>0</td>\n",
       "      <td>603</td>\n",
       "      <td>United Kingdom</td>\n",
       "      <td>8</td>\n",
       "      <td>Western Europe</td>\n",
       "      <td>54.994510</td>\n",
       "      <td>-7.319996</td>\n",
       "      <td>1</td>\n",
       "      <td>0</td>\n",
       "      <td>...</td>\n",
       "      <td>5</td>\n",
       "      <td>0</td>\n",
       "      <td>1</td>\n",
       "      <td>4</td>\n",
       "      <td>Unknown</td>\n",
       "      <td>0</td>\n",
       "      <td>0</td>\n",
       "      <td>1</td>\n",
       "      <td>1</td>\n",
       "      <td>0</td>\n",
       "    </tr>\n",
       "    <tr>\n",
       "      <th>365</th>\n",
       "      <td>1970</td>\n",
       "      <td>0</td>\n",
       "      <td>603</td>\n",
       "      <td>United Kingdom</td>\n",
       "      <td>8</td>\n",
       "      <td>Western Europe</td>\n",
       "      <td>54.994510</td>\n",
       "      <td>-7.319996</td>\n",
       "      <td>1</td>\n",
       "      <td>0</td>\n",
       "      <td>...</td>\n",
       "      <td>3</td>\n",
       "      <td>0</td>\n",
       "      <td>0</td>\n",
       "      <td>3</td>\n",
       "      <td>Minor (likely &lt; $1 million)</td>\n",
       "      <td>0</td>\n",
       "      <td>0</td>\n",
       "      <td>1</td>\n",
       "      <td>1</td>\n",
       "      <td>0</td>\n",
       "    </tr>\n",
       "    <tr>\n",
       "      <th>366</th>\n",
       "      <td>1970</td>\n",
       "      <td>0</td>\n",
       "      <td>603</td>\n",
       "      <td>United Kingdom</td>\n",
       "      <td>8</td>\n",
       "      <td>Western Europe</td>\n",
       "      <td>54.597269</td>\n",
       "      <td>-5.930109</td>\n",
       "      <td>1</td>\n",
       "      <td>0</td>\n",
       "      <td>...</td>\n",
       "      <td>1</td>\n",
       "      <td>0</td>\n",
       "      <td>0</td>\n",
       "      <td>3</td>\n",
       "      <td>Minor (likely &lt; $1 million)</td>\n",
       "      <td>0</td>\n",
       "      <td>0</td>\n",
       "      <td>1</td>\n",
       "      <td>1</td>\n",
       "      <td>0</td>\n",
       "    </tr>\n",
       "    <tr>\n",
       "      <th>367</th>\n",
       "      <td>1970</td>\n",
       "      <td>0</td>\n",
       "      <td>603</td>\n",
       "      <td>United Kingdom</td>\n",
       "      <td>8</td>\n",
       "      <td>Western Europe</td>\n",
       "      <td>54.597269</td>\n",
       "      <td>-5.930109</td>\n",
       "      <td>1</td>\n",
       "      <td>0</td>\n",
       "      <td>...</td>\n",
       "      <td>1</td>\n",
       "      <td>0</td>\n",
       "      <td>0</td>\n",
       "      <td>3</td>\n",
       "      <td>Minor (likely &lt; $1 million)</td>\n",
       "      <td>0</td>\n",
       "      <td>0</td>\n",
       "      <td>1</td>\n",
       "      <td>1</td>\n",
       "      <td>0</td>\n",
       "    </tr>\n",
       "    <tr>\n",
       "      <th>368</th>\n",
       "      <td>1970</td>\n",
       "      <td>0</td>\n",
       "      <td>603</td>\n",
       "      <td>United Kingdom</td>\n",
       "      <td>8</td>\n",
       "      <td>Western Europe</td>\n",
       "      <td>54.597269</td>\n",
       "      <td>-5.930109</td>\n",
       "      <td>1</td>\n",
       "      <td>0</td>\n",
       "      <td>...</td>\n",
       "      <td>3</td>\n",
       "      <td>1</td>\n",
       "      <td>0</td>\n",
       "      <td>3</td>\n",
       "      <td>Minor (likely &lt; $1 million)</td>\n",
       "      <td>0</td>\n",
       "      <td>0</td>\n",
       "      <td>1</td>\n",
       "      <td>1</td>\n",
       "      <td>0</td>\n",
       "    </tr>\n",
       "  </tbody>\n",
       "</table>\n",
       "<p>5 rows × 42 columns</p>\n",
       "</div>"
      ],
      "text/plain": [
       "     iyear  extended  country     country_txt  region      region_txt  \\\n",
       "364   1970         0      603  United Kingdom       8  Western Europe   \n",
       "365   1970         0      603  United Kingdom       8  Western Europe   \n",
       "366   1970         0      603  United Kingdom       8  Western Europe   \n",
       "367   1970         0      603  United Kingdom       8  Western Europe   \n",
       "368   1970         0      603  United Kingdom       8  Western Europe   \n",
       "\n",
       "      latitude  longitude  specificity  vicinity   ...     nkill  nwound  \\\n",
       "364  54.994510  -7.319996            1         0   ...         5       0   \n",
       "365  54.994510  -7.319996            1         0   ...         3       0   \n",
       "366  54.597269  -5.930109            1         0   ...         1       0   \n",
       "367  54.597269  -5.930109            1         0   ...         1       0   \n",
       "368  54.597269  -5.930109            1         0   ...         3       1   \n",
       "\n",
       "     property  propextent               propextent_txt  INT_LOG  INT_IDEO  \\\n",
       "364         1           4                      Unknown        0         0   \n",
       "365         0           3  Minor (likely < $1 million)        0         0   \n",
       "366         0           3  Minor (likely < $1 million)        0         0   \n",
       "367         0           3  Minor (likely < $1 million)        0         0   \n",
       "368         0           3  Minor (likely < $1 million)        0         0   \n",
       "\n",
       "     INT_MISC INT_ANY  related  \n",
       "364         1       1        0  \n",
       "365         1       1        0  \n",
       "366         1       1        0  \n",
       "367         1       1        0  \n",
       "368         1       1        0  \n",
       "\n",
       "[5 rows x 42 columns]"
      ]
     },
     "execution_count": 31,
     "metadata": {},
     "output_type": "execute_result"
    }
   ],
   "source": [
    "#how do we compare the types of attacks, per year, in Great Britain and Ireland (especially during \n",
    "#the time of the Troubles w/ the Provisional IRA) in comparison to the rest of Western Europe?\n",
    "gtd[gtd['country_txt'] == 'United Kingdom'].head()"
   ]
  },
  {
   "cell_type": "code",
   "execution_count": 32,
   "metadata": {},
   "outputs": [
    {
     "data": {
      "text/html": [
       "<div>\n",
       "<style>\n",
       "    .dataframe thead tr:only-child th {\n",
       "        text-align: right;\n",
       "    }\n",
       "\n",
       "    .dataframe thead th {\n",
       "        text-align: left;\n",
       "    }\n",
       "\n",
       "    .dataframe tbody tr th {\n",
       "        vertical-align: top;\n",
       "    }\n",
       "</style>\n",
       "<table border=\"1\" class=\"dataframe\">\n",
       "  <thead>\n",
       "    <tr style=\"text-align: right;\">\n",
       "      <th></th>\n",
       "      <th>iyear</th>\n",
       "      <th>extended</th>\n",
       "      <th>country</th>\n",
       "      <th>country_txt</th>\n",
       "      <th>region</th>\n",
       "      <th>region_txt</th>\n",
       "      <th>latitude</th>\n",
       "      <th>longitude</th>\n",
       "      <th>specificity</th>\n",
       "      <th>vicinity</th>\n",
       "      <th>...</th>\n",
       "      <th>nkill</th>\n",
       "      <th>nwound</th>\n",
       "      <th>property</th>\n",
       "      <th>propextent</th>\n",
       "      <th>propextent_txt</th>\n",
       "      <th>INT_LOG</th>\n",
       "      <th>INT_IDEO</th>\n",
       "      <th>INT_MISC</th>\n",
       "      <th>INT_ANY</th>\n",
       "      <th>related</th>\n",
       "    </tr>\n",
       "  </thead>\n",
       "  <tbody>\n",
       "    <tr>\n",
       "      <th>171</th>\n",
       "      <td>1970</td>\n",
       "      <td>0</td>\n",
       "      <td>96</td>\n",
       "      <td>Ireland</td>\n",
       "      <td>8</td>\n",
       "      <td>Western Europe</td>\n",
       "      <td>53.344104</td>\n",
       "      <td>-6.267494</td>\n",
       "      <td>1</td>\n",
       "      <td>0</td>\n",
       "      <td>...</td>\n",
       "      <td>1</td>\n",
       "      <td>0</td>\n",
       "      <td>1</td>\n",
       "      <td>4</td>\n",
       "      <td>Unknown</td>\n",
       "      <td>1</td>\n",
       "      <td>1</td>\n",
       "      <td>0</td>\n",
       "      <td>1</td>\n",
       "      <td>0</td>\n",
       "    </tr>\n",
       "    <tr>\n",
       "      <th>1057</th>\n",
       "      <td>1971</td>\n",
       "      <td>0</td>\n",
       "      <td>96</td>\n",
       "      <td>Ireland</td>\n",
       "      <td>8</td>\n",
       "      <td>Western Europe</td>\n",
       "      <td>53.344104</td>\n",
       "      <td>-6.267494</td>\n",
       "      <td>1</td>\n",
       "      <td>0</td>\n",
       "      <td>...</td>\n",
       "      <td>1</td>\n",
       "      <td>0</td>\n",
       "      <td>0</td>\n",
       "      <td>3</td>\n",
       "      <td>Minor (likely &lt; $1 million)</td>\n",
       "      <td>1</td>\n",
       "      <td>1</td>\n",
       "      <td>0</td>\n",
       "      <td>1</td>\n",
       "      <td>0</td>\n",
       "    </tr>\n",
       "    <tr>\n",
       "      <th>1166</th>\n",
       "      <td>1972</td>\n",
       "      <td>0</td>\n",
       "      <td>96</td>\n",
       "      <td>Ireland</td>\n",
       "      <td>8</td>\n",
       "      <td>Western Europe</td>\n",
       "      <td>53.344104</td>\n",
       "      <td>-6.267494</td>\n",
       "      <td>1</td>\n",
       "      <td>0</td>\n",
       "      <td>...</td>\n",
       "      <td>0</td>\n",
       "      <td>0</td>\n",
       "      <td>1</td>\n",
       "      <td>4</td>\n",
       "      <td>Unknown</td>\n",
       "      <td>1</td>\n",
       "      <td>0</td>\n",
       "      <td>1</td>\n",
       "      <td>1</td>\n",
       "      <td>0</td>\n",
       "    </tr>\n",
       "    <tr>\n",
       "      <th>1334</th>\n",
       "      <td>1972</td>\n",
       "      <td>0</td>\n",
       "      <td>96</td>\n",
       "      <td>Ireland</td>\n",
       "      <td>8</td>\n",
       "      <td>Western Europe</td>\n",
       "      <td>53.344104</td>\n",
       "      <td>-6.267494</td>\n",
       "      <td>1</td>\n",
       "      <td>0</td>\n",
       "      <td>...</td>\n",
       "      <td>0</td>\n",
       "      <td>0</td>\n",
       "      <td>1</td>\n",
       "      <td>4</td>\n",
       "      <td>Unknown</td>\n",
       "      <td>-9</td>\n",
       "      <td>-9</td>\n",
       "      <td>1</td>\n",
       "      <td>1</td>\n",
       "      <td>0</td>\n",
       "    </tr>\n",
       "    <tr>\n",
       "      <th>1486</th>\n",
       "      <td>1972</td>\n",
       "      <td>0</td>\n",
       "      <td>96</td>\n",
       "      <td>Ireland</td>\n",
       "      <td>8</td>\n",
       "      <td>Western Europe</td>\n",
       "      <td>54.123175</td>\n",
       "      <td>-7.478935</td>\n",
       "      <td>1</td>\n",
       "      <td>0</td>\n",
       "      <td>...</td>\n",
       "      <td>2</td>\n",
       "      <td>0</td>\n",
       "      <td>0</td>\n",
       "      <td>3</td>\n",
       "      <td>Minor (likely &lt; $1 million)</td>\n",
       "      <td>1</td>\n",
       "      <td>0</td>\n",
       "      <td>1</td>\n",
       "      <td>1</td>\n",
       "      <td>0</td>\n",
       "    </tr>\n",
       "  </tbody>\n",
       "</table>\n",
       "<p>5 rows × 42 columns</p>\n",
       "</div>"
      ],
      "text/plain": [
       "      iyear  extended  country country_txt  region      region_txt   latitude  \\\n",
       "171    1970         0       96     Ireland       8  Western Europe  53.344104   \n",
       "1057   1971         0       96     Ireland       8  Western Europe  53.344104   \n",
       "1166   1972         0       96     Ireland       8  Western Europe  53.344104   \n",
       "1334   1972         0       96     Ireland       8  Western Europe  53.344104   \n",
       "1486   1972         0       96     Ireland       8  Western Europe  54.123175   \n",
       "\n",
       "      longitude  specificity  vicinity   ...     nkill  nwound  property  \\\n",
       "171   -6.267494            1         0   ...         1       0         1   \n",
       "1057  -6.267494            1         0   ...         1       0         0   \n",
       "1166  -6.267494            1         0   ...         0       0         1   \n",
       "1334  -6.267494            1         0   ...         0       0         1   \n",
       "1486  -7.478935            1         0   ...         2       0         0   \n",
       "\n",
       "      propextent               propextent_txt  INT_LOG  INT_IDEO  INT_MISC  \\\n",
       "171            4                      Unknown        1         1         0   \n",
       "1057           3  Minor (likely < $1 million)        1         1         0   \n",
       "1166           4                      Unknown        1         0         1   \n",
       "1334           4                      Unknown       -9        -9         1   \n",
       "1486           3  Minor (likely < $1 million)        1         0         1   \n",
       "\n",
       "     INT_ANY  related  \n",
       "171        1        0  \n",
       "1057       1        0  \n",
       "1166       1        0  \n",
       "1334       1        0  \n",
       "1486       1        0  \n",
       "\n",
       "[5 rows x 42 columns]"
      ]
     },
     "execution_count": 32,
     "metadata": {},
     "output_type": "execute_result"
    }
   ],
   "source": [
    "gtd[gtd['country_txt'] == 'Ireland'].head()"
   ]
  },
  {
   "cell_type": "code",
   "execution_count": 14,
   "metadata": {
    "collapsed": true
   },
   "outputs": [],
   "source": [
    "gbi = gtd[(gtd['country'] == 603) | (gtd['country'] == 96)]"
   ]
  },
  {
   "cell_type": "code",
   "execution_count": 9,
   "metadata": {
    "collapsed": true
   },
   "outputs": [],
   "source": [
    "w_euro = gtd[(gtd['region'] == 8) & ((gtd['country'] != 603) & (gtd['country'] != 96))]"
   ]
  },
  {
   "cell_type": "code",
   "execution_count": 15,
   "metadata": {
    "collapsed": true,
    "scrolled": true
   },
   "outputs": [],
   "source": [
    "#focusing on the Troubles, so let's pull everything before... let's say 2000, since the conflict ended roughly 1998\n",
    "gbi = gbi[gbi['iyear'] < 2000]\n",
    "w_euro = w_euro[w_euro['iyear'] < 2000]"
   ]
  },
  {
   "cell_type": "code",
   "execution_count": 16,
   "metadata": {},
   "outputs": [
    {
     "data": {
      "text/plain": [
       "(4306, 42)"
      ]
     },
     "execution_count": 16,
     "metadata": {},
     "output_type": "execute_result"
    }
   ],
   "source": [
    "gbi.shape"
   ]
  },
  {
   "cell_type": "code",
   "execution_count": 17,
   "metadata": {},
   "outputs": [
    {
     "data": {
      "text/plain": [
       "(9111, 42)"
      ]
     },
     "execution_count": 17,
     "metadata": {},
     "output_type": "execute_result"
    }
   ],
   "source": [
    "w_euro.shape"
   ]
  },
  {
   "cell_type": "code",
   "execution_count": 19,
   "metadata": {},
   "outputs": [
    {
     "data": {
      "text/plain": [
       "1    1669\n",
       "3    1558\n",
       "2     494\n",
       "7     448\n",
       "6      61\n",
       "9      36\n",
       "8      22\n",
       "5      12\n",
       "4       6\n",
       "Name: attacktype1, dtype: int64"
      ]
     },
     "execution_count": 19,
     "metadata": {},
     "output_type": "execute_result"
    }
   ],
   "source": [
    "gbi['attacktype1'].value_counts()"
   ]
  },
  {
   "cell_type": "code",
   "execution_count": 20,
   "metadata": {},
   "outputs": [
    {
     "data": {
      "text/plain": [
       "Assassination                          1669\n",
       "Bombing/Explosion                      1558\n",
       "Armed Assault                           494\n",
       "Facility/Infrastructure Attack          448\n",
       "Hostage Taking (Kidnapping)              61\n",
       "Unknown                                  36\n",
       "Unarmed Assault                          22\n",
       "Hostage Taking (Barricade Incident)      12\n",
       "Hijacking                                 6\n",
       "Name: attacktype1_txt, dtype: int64"
      ]
     },
     "execution_count": 20,
     "metadata": {},
     "output_type": "execute_result"
    }
   ],
   "source": [
    "gbi['attacktype1_txt'].value_counts()"
   ]
  },
  {
   "cell_type": "code",
   "execution_count": 21,
   "metadata": {
    "scrolled": true
   },
   "outputs": [
    {
     "data": {
      "text/plain": [
       "Bombing/Explosion                      5258\n",
       "Facility/Infrastructure Attack         1277\n",
       "Assassination                          1180\n",
       "Armed Assault                           835\n",
       "Unknown                                 217\n",
       "Hostage Taking (Kidnapping)             194\n",
       "Hostage Taking (Barricade Incident)      62\n",
       "Unarmed Assault                          46\n",
       "Hijacking                                42\n",
       "Name: attacktype1_txt, dtype: int64"
      ]
     },
     "execution_count": 21,
     "metadata": {},
     "output_type": "execute_result"
    }
   ],
   "source": [
    "w_euro['attacktype1_txt'].value_counts()"
   ]
  },
  {
   "cell_type": "code",
   "execution_count": 24,
   "metadata": {},
   "outputs": [],
   "source": [
    "#let's focus on the percentage of bombings per year, shall we?\n",
    "gb_bombings = []\n",
    "euro_bombings = []\n",
    "for yr in range(1970, 1993):\n",
    "    gb_yrbmb = len(gbi[(gbi['iyear'] == yr) & (gbi['attacktype1'] == 3)])\n",
    "    gb_bombings.append(gb_yrbmb / len(gbi[gbi['iyear'] == yr]))\n",
    "    euro_yrbmb = len(w_euro[(w_euro['iyear'] == yr) & (w_euro['attacktype1'] == 3)])\n",
    "    euro_bombings.append(euro_yrbmb / len(w_euro[w_euro['iyear'] == yr]))\n",
    "for yr in range(1994, 2000):\n",
    "    gb_yrbmb = len(gbi[(gbi['iyear'] == yr) & (gbi['attacktype1'] == 3)])\n",
    "    gb_bombings.append(gb_yrbmb / len(gbi[gbi['iyear'] == yr]))\n",
    "    euro_yrbmb = len(w_euro[(w_euro['iyear'] == yr) & (w_euro['attacktype1'] == 3)])\n",
    "    euro_bombings.append(euro_yrbmb / len(w_euro[w_euro['iyear'] == yr]))\n",
    "#two for loops because the missing 1993 data causes a divide by zero error"
   ]
  },
  {
   "cell_type": "code",
   "execution_count": 25,
   "metadata": {
    "scrolled": true
   },
   "outputs": [
    {
     "data": {
      "text/plain": [
       "[0.15384615384615385,\n",
       " 0.2682926829268293,\n",
       " 0.22758620689655173,\n",
       " 0.25,\n",
       " 0.32682926829268294,\n",
       " 0.30845771144278605,\n",
       " 0.23618090452261306,\n",
       " 0.20279720279720279,\n",
       " 0.47572815533980584,\n",
       " 0.4024390243902439,\n",
       " 0.46099290780141844,\n",
       " 0.3333333333333333,\n",
       " 0.3434343434343434,\n",
       " 0.39226519337016574,\n",
       " 0.4931506849315068,\n",
       " 0.5072463768115942,\n",
       " 0.41237113402061853,\n",
       " 0.2605633802816901,\n",
       " 0.4530386740331492,\n",
       " 0.5240963855421686,\n",
       " 0.4563758389261745,\n",
       " 0.2446043165467626,\n",
       " 0.42704626334519574,\n",
       " 0.3533834586466165,\n",
       " 0.24,\n",
       " 0.4594594594594595,\n",
       " 0.5121951219512195,\n",
       " 0.6212121212121212,\n",
       " 0.4936708860759494]"
      ]
     },
     "execution_count": 25,
     "metadata": {},
     "output_type": "execute_result"
    }
   ],
   "source": [
    "gb_bombings"
   ]
  },
  {
   "cell_type": "code",
   "execution_count": 26,
   "metadata": {
    "scrolled": true
   },
   "outputs": [
    {
     "data": {
      "text/plain": [
       "[0.3611111111111111,\n",
       " 0.6744186046511628,\n",
       " 0.6461538461538462,\n",
       " 0.40816326530612246,\n",
       " 0.5225225225225225,\n",
       " 0.4345991561181435,\n",
       " 0.4921052631578947,\n",
       " 0.45222929936305734,\n",
       " 0.4424920127795527,\n",
       " 0.51875808538163,\n",
       " 0.45594713656387664,\n",
       " 0.5400593471810089,\n",
       " 0.7293729372937293,\n",
       " 0.7517006802721088,\n",
       " 0.7240506329113924,\n",
       " 0.6952141057934509,\n",
       " 0.7402234636871509,\n",
       " 0.7054545454545454,\n",
       " 0.7564935064935064,\n",
       " 0.564748201438849,\n",
       " 0.6639004149377593,\n",
       " 0.65311004784689,\n",
       " 0.3831967213114754,\n",
       " 0.4716981132075472,\n",
       " 0.3782051282051282,\n",
       " 0.7494305239179955,\n",
       " 0.7865168539325843,\n",
       " 0.6933333333333334,\n",
       " 0.6560509554140127]"
      ]
     },
     "execution_count": 26,
     "metadata": {},
     "output_type": "execute_result"
    }
   ],
   "source": [
    "euro_bombings"
   ]
  },
  {
   "cell_type": "code",
   "execution_count": 27,
   "metadata": {},
   "outputs": [
    {
     "name": "stdout",
     "output_type": "stream",
     "text": [
      "GB mean bomb%: 0.3738136962130469\n",
      "EU mean bomb%: 0.5879744764048753\n"
     ]
    }
   ],
   "source": [
    "print(\"GB mean bomb%: \" + str(pd.Series(gb_bombings).mean()))\n",
    "print(\"EU mean bomb%: \" + str(pd.Series(euro_bombings).mean()))"
   ]
  },
  {
   "cell_type": "code",
   "execution_count": 29,
   "metadata": {},
   "outputs": [],
   "source": [
    "#this is a pretty significant difference. But what if we take out the unusually high number of assassinations\n",
    "#and assassination attempts that occurred in Great Britain during this time period (more than the whole of W. Europe)\n",
    "gb_wo_asn = []\n",
    "euro_wo_asn = []\n",
    "for yr in range(1970, 1993):\n",
    "    gb_yrbmb = len(gbi[(gbi['iyear'] == yr) & (gbi['attacktype1'] == 3)])\n",
    "    gb_no_asn = len(gbi[gbi['iyear'] == yr]) - len(gbi[(gbi['iyear'] == yr) & (gbi['attacktype1'] == 1)])\n",
    "    gb_wo_asn.append(gb_yrbmb / gb_no_asn)\n",
    "    euro_yrbmb = len(w_euro[(w_euro['iyear'] == yr) & (w_euro['attacktype1'] == 3)])\n",
    "    euro_no_asn = len(w_euro[w_euro['iyear'] == yr]) - len(w_euro[(w_euro['iyear'] == yr) & (w_euro['attacktype1'] == 1)])\n",
    "    euro_wo_asn.append(euro_yrbmb / euro_no_asn)\n",
    "for yr in range(1994, 2000):\n",
    "    gb_yrbmb = len(gbi[(gbi['iyear'] == yr) & (gbi['attacktype1'] == 3)])\n",
    "    gb_no_asn = len(gbi[gbi['iyear'] == yr]) - len(gbi[(gbi['iyear'] == yr) & (gbi['attacktype1'] == 1)])\n",
    "    gb_wo_asn.append(gb_yrbmb / gb_no_asn)\n",
    "    euro_yrbmb = len(w_euro[(w_euro['iyear'] == yr) & (w_euro['attacktype1'] == 3)])\n",
    "    euro_no_asn = len(w_euro[w_euro['iyear'] == yr]) - len(w_euro[(w_euro['iyear'] == yr) & (w_euro['attacktype1'] == 1)])\n",
    "    euro_wo_asn.append(euro_yrbmb / euro_no_asn)"
   ]
  },
  {
   "cell_type": "code",
   "execution_count": 30,
   "metadata": {
    "scrolled": true
   },
   "outputs": [
    {
     "name": "stdout",
     "output_type": "stream",
     "text": [
      "GB mean bomb% w/o assassination attempts: 0.6090367280242062\n",
      "EU mean bomb% w/o assassination attempts: 0.6665477219909941\n"
     ]
    }
   ],
   "source": [
    "print(\"GB mean bomb% w/o assassination attempts: \" + str(pd.Series(gb_wo_asn).mean()))\n",
    "print(\"EU mean bomb% w/o assassination attempts: \" + str(pd.Series(euro_wo_asn).mean()))"
   ]
  },
  {
   "cell_type": "code",
   "execution_count": 40,
   "metadata": {},
   "outputs": [],
   "source": [
    "#I think these'll make a much better comparison for our Bayesian inference. Our prior will be Europe, \n",
    "#bombings in GB & Ireland will be our new observations\n",
    "prior_bomb = len(w_euro[w_euro['attacktype1'] == 3])\n",
    "prior_atk = len(w_euro[w_euro['attacktype1'] != 1])\n",
    "new_bomb = len(gbi[gbi['attacktype1'] == 3])\n",
    "new_atk = len(gbi[gbi['attacktype1'] != 1])"
   ]
  },
  {
   "cell_type": "code",
   "execution_count": 41,
   "metadata": {
    "collapsed": true
   },
   "outputs": [],
   "source": [
    "alpha_pr = prior_bomb + 1\n",
    "beta_pr = (prior_atk - prior_bomb) + 1\n",
    "alpha_po = alpha_pr + new_bomb\n",
    "beta_po = beta_pr + (new_atk - new_bomb) + 1"
   ]
  },
  {
   "cell_type": "code",
   "execution_count": 42,
   "metadata": {
    "collapsed": true
   },
   "outputs": [],
   "source": [
    "prior_dist = stats.beta(alpha_pr, beta_pr)\n",
    "post_dist = stats.beta(alpha_po, beta_po)"
   ]
  },
  {
   "cell_type": "code",
   "execution_count": 52,
   "metadata": {
    "scrolled": true
   },
   "outputs": [
    {
     "data": {
      "image/png": "[encoded data removed]",
      "text/plain": [
       "<matplotlib.figure.Figure at 0x11f913b00>"
      ]
     },
     "metadata": {},
     "output_type": "display_data"
    }
   ],
   "source": [
    "pvals = np.linspace(0.5, 0.75, 501)\n",
    "plt.figure(figsize=(8, 5))\n",
    "plt.plot(pvals, prior_dist.pdf(pvals), 'r', label = 'Prior')\n",
    "plt.plot(pvals, post_dist.pdf(pvals), 'b', label = 'Posterior')\n",
    "plt.xlabel(\"Pct% of Bombings\")\n",
    "plt.ylabel(\"Beta PDF of Distribution\")\n",
    "plt.legend()\n",
    "plt.show()"
   ]
  },
  {
   "cell_type": "code",
   "execution_count": 54,
   "metadata": {},
   "outputs": [
    {
     "name": "stderr",
     "output_type": "stream",
     "text": [
      "Auto-assigning NUTS sampler...\n",
      "Initializing NUTS using jitter+adapt_diag...\n",
      "/Users/arpariseau/anaconda3/lib/python3.6/site-packages/pymc3/model.py:384: FutureWarning: Conversion of the second argument of issubdtype from `float` to `np.floating` is deprecated. In future, it will be treated as `np.float64 == np.dtype(float).type`.\n",
      "  if not np.issubdtype(var.dtype, float):\n",
      "Sequential sampling (2 chains in 1 job)\n",
      "NUTS: [eur_logodds__]\n",
      "100%|██████████| 4000/4000 [00:02<00:00, 1914.49it/s]\n",
      "100%|██████████| 4000/4000 [00:01<00:00, 2526.63it/s]\n"
     ]
    }
   ],
   "source": [
    "with pm.Model() as bomb_model:\n",
    "    eur = pm.Beta('eur', alpha = alpha_pr, beta = beta_pr, testval = 'mean')\n",
    "    gbi = pm.Binomial('gbi', n = new_atk, p=eur, observed = new_bomb)\n",
    "    trace = pm.sample(3000, tune=1000, njobs=1)"
   ]
  },
  {
   "cell_type": "code",
   "execution_count": 55,
   "metadata": {
    "scrolled": true
   },
   "outputs": [
    {
     "data": {
      "text/plain": [
       "<matplotlib.axes._subplots.AxesSubplot at 0x1202c3c50>"
      ]
     },
     "execution_count": 55,
     "metadata": {},
     "output_type": "execute_result"
    },
    {
     "data": {
      "image/png": "[encoded data removed]",
      "text/plain": [
       "<matplotlib.figure.Figure at 0x120311400>"
      ]
     },
     "metadata": {},
     "output_type": "display_data"
    }
   ],
   "source": [
    "pm.plot_posterior(trace, varnames=['eur'])"
   ]
  },
  {
   "cell_type": "code",
   "execution_count": 57,
   "metadata": {
    "scrolled": true
   },
   "outputs": [
    {
     "name": "stdout",
     "output_type": "stream",
     "text": [
      "0.6665477219909941\n",
      "0.15615211146513908\n"
     ]
    }
   ],
   "source": [
    "gb_bmb_avg = pd.Series(gb_wo_asn).mean()\n",
    "gb_bmb_std = pd.Series(gb_wo_asn).std()\n",
    "eu_bmb_avg = pd.Series(euro_wo_asn).mean()\n",
    "eu_bmb_std = pd.Series(euro_wo_asn).std()\n",
    "print(eu_bmb_avg)\n",
    "print(eu_bmb_std)"
   ]
  },
  {
   "cell_type": "code",
   "execution_count": 60,
   "metadata": {
    "scrolled": true
   },
   "outputs": [
    {
     "name": "stderr",
     "output_type": "stream",
     "text": [
      "Auto-assigning NUTS sampler...\n",
      "Initializing NUTS using jitter+adapt_diag...\n",
      "/Users/arpariseau/anaconda3/lib/python3.6/site-packages/pymc3/model.py:384: FutureWarning: Conversion of the second argument of issubdtype from `float` to `np.floating` is deprecated. In future, it will be treated as `np.float64 == np.dtype(float).type`.\n",
      "  if not np.issubdtype(var.dtype, float):\n",
      "Multiprocess sampling (4 chains in 4 jobs)\n",
      "NUTS: [GB_bomb_pct_STD_interval__, GB_bomb_pct_AVG]\n",
      "100%|██████████| 20500/20500 [00:16<00:00, 1270.21it/s]\n"
     ]
    }
   ],
   "source": [
    "with pm.Model() as bomb_model2:\n",
    "    gb_mean = pm.Normal('GB_bomb_pct_AVG', eu_bmb_avg, sd=50)\n",
    "    gb_std = pm.Uniform('GB_bomb_pct_STD', lower= .01, upper = (2 * eu_bmb_std))\n",
    "    gb_bmb = pm.Normal('GB_bomb_pct', mu = gb_mean, sd = gb_std, observed = gb_wo_asn)\n",
    "    trace2 = pm.sample(20000, njobs=4)"
   ]
  },
  {
   "cell_type": "code",
   "execution_count": 61,
   "metadata": {},
   "outputs": [
    {
     "data": {
      "text/plain": [
       "array([<matplotlib.axes._subplots.AxesSubplot object at 0x12116de48>,\n",
       "       <matplotlib.axes._subplots.AxesSubplot object at 0x12180e748>],\n",
       "      dtype=object)"
      ]
     },
     "execution_count": 61,
     "metadata": {},
     "output_type": "execute_result"
    },
    {
     "data": {
      "image/png": "[encoded data removed]",
      "text/plain": [
       "<matplotlib.figure.Figure at 0x120e90d68>"
      ]
     },
     "metadata": {},
     "output_type": "display_data"
    }
   ],
   "source": [
    "pm.plot_posterior(trace2, varnames=['GB_bomb_pct_AVG', 'GB_bomb_pct_STD'])"
   ]
  },
  {
   "cell_type": "code",
   "execution_count": null,
   "metadata": {
    "collapsed": true
   },
   "outputs": [],
   "source": []
  }
 ],
 "metadata": {
  "kernelspec": {
   "display_name": "Python 3",
   "language": "python",
   "name": "python3"
  },
  "language_info": {
   "codemirror_mode": {
    "name": "ipython",
    "version": 3
   },
   "file_extension": ".py",
   "mimetype": "text/x-python",
   "name": "python",
   "nbconvert_exporter": "python",
   "pygments_lexer": "ipython3",
   "version": "3.6.3"
  }
 },
 "nbformat": 4,
 "nbformat_minor": 2
}
